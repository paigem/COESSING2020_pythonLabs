{
  "nbformat": 4,
  "nbformat_minor": 0,
  "metadata": {
    "kernelspec": {
      "display_name": "Python 3",
      "language": "python",
      "name": "python3"
    },
    "language_info": {
      "codemirror_mode": {
        "name": "ipython",
        "version": 3
      },
      "file_extension": ".py",
      "mimetype": "text/x-python",
      "name": "python",
      "nbconvert_exporter": "python",
      "pygments_lexer": "ipython3",
      "version": "3.7.3"
    },
    "colab": {
      "name": "Introductory_Colab_walkthrough.ipynb",
      "provenance": [],
      "collapsed_sections": []
    }
  },
  "cells": [
    {
      "cell_type": "markdown",
      "metadata": {
        "id": "3tc7nvaQnrk5",
        "colab_type": "text"
      },
      "source": [
        "# This is a walk-through of some of the basic python packages and Google Colab functioning\n",
        "\n",
        "Note: this notebook should only be run in Google Colab, as it features specific Colab-related formatting and functioning!"
      ]
    },
    {
      "cell_type": "markdown",
      "metadata": {
        "id": "gzebEXlDnrk6",
        "colab_type": "text"
      },
      "source": [
        "Follow this tutorial step-by-step before completing other labs, particularly if you have no prior python or jupyter/Colab experience. "
      ]
    },
    {
      "cell_type": "markdown",
      "metadata": {
        "id": "BqhVSKXVnrk8",
        "colab_type": "text"
      },
      "source": [
        "### Using Colab notebook"
      ]
    },
    {
      "cell_type": "markdown",
      "metadata": {
        "id": "TVbur4rjjBZx",
        "colab_type": "text"
      },
      "source": [
        "First, let's understand how this notebook works. Notebooks are written by cells that can be evaluated individually. In the cell below, the text \"This is a text cell\" has been typed. Double click on the words to view the cell. (A \"text\" cell is the same as a Jupyter notebook \"Markdown\" cell.)"
      ]
    },
    {
      "cell_type": "markdown",
      "metadata": {
        "id": "2pc3Q5TAjBZy",
        "colab_type": "text"
      },
      "source": [
        "This is a text cell"
      ]
    },
    {
      "cell_type": "markdown",
      "metadata": {
        "id": "euQiuAwZjBZz",
        "colab_type": "text"
      },
      "source": [
        "You should have noticed that when you double-clicked on the cell above, you could see the preview of the cell on the right-hand side or just below the text that you could type into the cell."
      ]
    },
    {
      "cell_type": "markdown",
      "metadata": {
        "id": "HTDz5Rbjnrk_",
        "colab_type": "text"
      },
      "source": [
        "Now try to create your own cell. First, click once on this cell, then add a new markdown cell by either clicking the \"+ Text\" button above or by clicking the \"+ Text\" button that appears when your mouse hovers over this cell. This should create a new text cell beneath this one. Type something into the cell! Then type Shift+Return to evaluate the cell (i.e. to get out of the text edit mode) or simply click on another cell to exit the edit mode. Once you have done so, the text should look just like it does here!"
      ]
    },
    {
      "cell_type": "markdown",
      "metadata": {
        "id": "VwRJ9HjVnrlA",
        "colab_type": "text"
      },
      "source": [
        "Now let's create text a bit larger by typing out \"#\" in front of the text. In the 3 cells below, double click on the words to see how the larger fontsize is created."
      ]
    },
    {
      "cell_type": "markdown",
      "metadata": {
        "id": "uPaTc1l9nrlB",
        "colab_type": "text"
      },
      "source": [
        "# Largest header"
      ]
    },
    {
      "cell_type": "markdown",
      "metadata": {
        "id": "R4hTtqMSnrlC",
        "colab_type": "text"
      },
      "source": [
        "## Slightly smaller header"
      ]
    },
    {
      "cell_type": "markdown",
      "metadata": {
        "id": "R11ZGCV_nrlC",
        "colab_type": "text"
      },
      "source": [
        "### Smaller header"
      ]
    },
    {
      "cell_type": "markdown",
      "metadata": {
        "id": "82wEuF1bnrlD",
        "colab_type": "text"
      },
      "source": [
        "These markdown cells are useful for writing comments in your Jupyter notebook - a very important part of writing reproducible code!\n",
        "\n",
        "There are a few other useful tools for creating and organizing cells in a notebook: \n",
        "\n",
        "- To move cells up and down, use the up and down arrow buttons that appear in the upper right of the cell when the cell has been clicked on.\n",
        "- You can add a code cell just as you did a text cell by clicking the \"+ Code\" button either at the top of the screen or at the bottom or a cell when the mouse hovers over it.\n",
        "- To switch an existing cell from text (for writing text) to code (for writing python code), use the keyboard shortcut \"Control Key + m + y\". From code to text, type \"Control Key + m + m\"\n",
        "- Hot tip: you can also hover over any buttons here and they will tell you what they do!"
      ]
    },
    {
      "cell_type": "markdown",
      "metadata": {
        "id": "mN77WcyTnrlE",
        "colab_type": "text"
      },
      "source": [
        "### On to some python coding!\n",
        "\n",
        "We can use basic python to, e.g., do some simple math! Comments (i.e. text that is not evaluated as python code) are denoted by a \"#\". Evaluate the examples in the cells below."
      ]
    },
    {
      "cell_type": "code",
      "metadata": {
        "id": "hogqYrZqnrlE",
        "colab_type": "code",
        "colab": {
          "base_uri": "https://localhost:8080/",
          "height": 34
        },
        "outputId": "0dbfa102-f063-4088-fb42-389473a6b7e9"
      },
      "source": [
        "5+7 # addition"
      ],
      "execution_count": 1,
      "outputs": [
        {
          "output_type": "execute_result",
          "data": {
            "text/plain": [
              "12"
            ]
          },
          "metadata": {
            "tags": []
          },
          "execution_count": 1
        }
      ]
    },
    {
      "cell_type": "code",
      "metadata": {
        "id": "JRfUeW7ZnrlI",
        "colab_type": "code",
        "colab": {
          "base_uri": "https://localhost:8080/",
          "height": 34
        },
        "outputId": "91df457c-9ca3-4ffd-a8cc-e66b740fda54"
      },
      "source": [
        "7**2 # squaring numbers"
      ],
      "execution_count": 2,
      "outputs": [
        {
          "output_type": "execute_result",
          "data": {
            "text/plain": [
              "49"
            ]
          },
          "metadata": {
            "tags": []
          },
          "execution_count": 2
        }
      ]
    },
    {
      "cell_type": "code",
      "metadata": {
        "id": "ITG6i2l6nrlK",
        "colab_type": "code",
        "colab": {
          "base_uri": "https://localhost:8080/",
          "height": 34
        },
        "outputId": "1de4430e-b822-452b-8e8f-f1378c2dc98b"
      },
      "source": [
        "(4+5)/3 # mathematical expressions"
      ],
      "execution_count": 3,
      "outputs": [
        {
          "output_type": "execute_result",
          "data": {
            "text/plain": [
              "3.0"
            ]
          },
          "metadata": {
            "tags": []
          },
          "execution_count": 3
        }
      ]
    },
    {
      "cell_type": "code",
      "metadata": {
        "id": "4CJfaN2wnrlM",
        "colab_type": "code",
        "colab": {
          "base_uri": "https://localhost:8080/",
          "height": 34
        },
        "outputId": "65e3320e-0ec5-48d0-9862-8da9ff3fa283"
      },
      "source": [
        "print('this will print out text from a coding cell')"
      ],
      "execution_count": 4,
      "outputs": [
        {
          "output_type": "stream",
          "text": [
            "this will print out text from a coding cell\n"
          ],
          "name": "stdout"
        }
      ]
    },
    {
      "cell_type": "code",
      "metadata": {
        "id": "7NdpEBmpnrlP",
        "colab_type": "code",
        "colab": {
          "base_uri": "https://localhost:8080/",
          "height": 34
        },
        "outputId": "5d4ecd1f-f6a0-4f50-e6a6-149cfc4544fe"
      },
      "source": [
        "# Assigning variables\n",
        "x = 3 + 7\n",
        "print('The variable x has the value',x)"
      ],
      "execution_count": 5,
      "outputs": [
        {
          "output_type": "stream",
          "text": [
            "The variable x has the value 10\n"
          ],
          "name": "stdout"
        }
      ]
    },
    {
      "cell_type": "markdown",
      "metadata": {
        "id": "d8kMcZG2nrlR",
        "colab_type": "text"
      },
      "source": [
        "You can see that the answers or outputs are printed below each cell. To do more interesting things, we need to import libraries. Let's start by importing one called numpy, and let's denote it \"np\"."
      ]
    },
    {
      "cell_type": "code",
      "metadata": {
        "id": "fC-C6-t1nrlS",
        "colab_type": "code",
        "colab": {}
      },
      "source": [
        "import numpy as np"
      ],
      "execution_count": 6,
      "outputs": []
    },
    {
      "cell_type": "markdown",
      "metadata": {
        "id": "0nUKScWDnrlU",
        "colab_type": "text"
      },
      "source": [
        "The package numpy allows us to do some basic array manipulation and more complicated math. Evaluate the following cells for some examples."
      ]
    },
    {
      "cell_type": "code",
      "metadata": {
        "id": "1b-2fTvznrlU",
        "colab_type": "code",
        "colab": {
          "base_uri": "https://localhost:8080/",
          "height": 34
        },
        "outputId": "e2d84ebb-c459-4161-cb77-7d7bf10b8cf1"
      },
      "source": [
        "# Calculate sine and cosine, and use the number pi\n",
        "np.sin(np.pi)"
      ],
      "execution_count": 7,
      "outputs": [
        {
          "output_type": "execute_result",
          "data": {
            "text/plain": [
              "1.2246467991473532e-16"
            ]
          },
          "metadata": {
            "tags": []
          },
          "execution_count": 7
        }
      ]
    },
    {
      "cell_type": "code",
      "metadata": {
        "id": "IUGlvULwnrlW",
        "colab_type": "code",
        "colab": {
          "base_uri": "https://localhost:8080/",
          "height": 34
        },
        "outputId": "3b8763c9-85a3-4900-ae1a-cdbbf7864982"
      },
      "source": [
        "# Assign arrays, or matrices, of numbers\n",
        "a = np.array((1,3,6,11))\n",
        "b = np.arange(10)\n",
        "print(a,b)"
      ],
      "execution_count": 8,
      "outputs": [
        {
          "output_type": "stream",
          "text": [
            "[ 1  3  6 11] [0 1 2 3 4 5 6 7 8 9]\n"
          ],
          "name": "stdout"
        }
      ]
    },
    {
      "cell_type": "markdown",
      "metadata": {
        "id": "HFDF_Bc8nrlY",
        "colab_type": "text"
      },
      "source": [
        "There are many more useful functions in the numpy library that you will likely see in other python labs this week. \n",
        "\n",
        "Let's move on to another library. This one is for plotting! (Note that we do not need to include the first line \"%matplotlib inline\" as we do in Jupyter notebooks.)"
      ]
    },
    {
      "cell_type": "code",
      "metadata": {
        "id": "v62bo-I3nrlY",
        "colab_type": "code",
        "colab": {}
      },
      "source": [
        "%matplotlib inline\n",
        "import matplotlib.pyplot as plt"
      ],
      "execution_count": 9,
      "outputs": []
    },
    {
      "cell_type": "markdown",
      "metadata": {
        "id": "dHc0NUMrnrla",
        "colab_type": "text"
      },
      "source": [
        "Let's make a simple plot."
      ]
    },
    {
      "cell_type": "code",
      "metadata": {
        "id": "-lCEjYUonrla",
        "colab_type": "code",
        "colab": {
          "base_uri": "https://localhost:8080/",
          "height": 282
        },
        "outputId": "9a7e7a98-3791-404a-caf8-74c6feb87a6d"
      },
      "source": [
        "# Define an array x\n",
        "x = np.arange(-2*np.pi, 2*np.pi, 0.1) # this defines an array that spans numbers from -2pi to 2pi with an interval of 0.1\n",
        "y = np.cos(x)\n",
        "\n",
        "plt.plot(x,y)"
      ],
      "execution_count": 10,
      "outputs": [
        {
          "output_type": "execute_result",
          "data": {
            "text/plain": [
              "[<matplotlib.lines.Line2D at 0x7f0a781716a0>]"
            ]
          },
          "metadata": {
            "tags": []
          },
          "execution_count": 10
        },
        {
          "output_type": "display_data",
          "data": {
            "image/png": "[encoded data removed]",
            "text/plain": [
              "<Figure size 432x288 with 1 Axes>"
            ]
          },
          "metadata": {
            "tags": [],
            "needs_background": "light"
          }
        }
      ]
    },
    {
      "cell_type": "markdown",
      "metadata": {
        "id": "vFJoGgqunrlc",
        "colab_type": "text"
      },
      "source": [
        "It's always good practice to label the axes and give your plot a title. Let's also make the plot a bit bigger and change the color and linestyle, just for fun."
      ]
    },
    {
      "cell_type": "code",
      "metadata": {
        "id": "x7JZjAZknrlc",
        "colab_type": "code",
        "colab": {
          "base_uri": "https://localhost:8080/",
          "height": 538
        },
        "outputId": "291a9ea0-a429-4bd9-c193-a7a221d18dfb"
      },
      "source": [
        "plt.figure(figsize=(12,8))\n",
        "plt.plot(x,y,color='r',linestyle='dashed')\n",
        "plt.title('Example cosine curve',fontsize=18)\n",
        "plt.xlabel('x',fontsize=14)\n",
        "plt.ylabel('y',fontsize=14)"
      ],
      "execution_count": 12,
      "outputs": [
        {
          "output_type": "execute_result",
          "data": {
            "text/plain": [
              "Text(0, 0.5, 'y')"
            ]
          },
          "metadata": {
            "tags": []
          },
          "execution_count": 12
        },
        {
          "output_type": "display_data",
          "data": {
            "image/png": "[encoded data removed]",
            "text/plain": [
              "<Figure size 864x576 with 1 Axes>"
            ]
          },
          "metadata": {
            "tags": [],
            "needs_background": "light"
          }
        }
      ]
    },
    {
      "cell_type": "markdown",
      "metadata": {
        "id": "7rioRstznrld",
        "colab_type": "text"
      },
      "source": [
        "# Let's get to know some other useful libraries\n",
        "\n",
        "### Pandas"
      ]
    },
    {
      "cell_type": "markdown",
      "metadata": {
        "id": "M5MO4O2enrle",
        "colab_type": "text"
      },
      "source": [
        "Another useful library is called pandas. Pandas is a great library for reading in and analyzing txt and csv files. It is a very convenient way to store data in columns, and each data column can be in very different formats (e.g. numbers, dates, text, etc.). Data is typically loaded in as a \"dataframe\". Let's look at a simple example."
      ]
    },
    {
      "cell_type": "code",
      "metadata": {
        "id": "uQojJHc9nrle",
        "colab_type": "code",
        "colab": {
          "base_uri": "https://localhost:8080/",
          "height": 173
        },
        "outputId": "b3ab09a4-afa5-4b7d-e997-7e6e8f8e68d6"
      },
      "source": [
        "import pandas as pd  # load the pandas library as \"pd\"\n",
        "\n",
        "# Create an example dataframe called df (taken from the pandas userguide at pandas.pydata.org)\n",
        "df = pd.DataFrame({'A': 1.,\n",
        "                   'B': pd.Timestamp('20130102'),\n",
        "                   'C': pd.Series(1, index=list(range(4)), dtype='float32'),\n",
        "                   'D': np.array([3] * 4, dtype='int32'),\n",
        "                   'E': pd.Categorical([\"test\", \"train\", \"test\", \"train\"]),\n",
        "                   'F': 'foo'})\n",
        "\n",
        "df # print out the dataframe"
      ],
      "execution_count": 13,
      "outputs": [
        {
          "output_type": "execute_result",
          "data": {
            "text/html": [
              "<div>\n",
              "<style scoped>\n",
              "    .dataframe tbody tr th:only-of-type {\n",
              "        vertical-align: middle;\n",
              "    }\n",
              "\n",
              "    .dataframe tbody tr th {\n",
              "        vertical-align: top;\n",
              "    }\n",
              "\n",
              "    .dataframe thead th {\n",
              "        text-align: right;\n",
              "    }\n",
              "</style>\n",
              "<table border=\"1\" class=\"dataframe\">\n",
              "  <thead>\n",
              "    <tr style=\"text-align: right;\">\n",
              "      <th></th>\n",
              "      <th>A</th>\n",
              "      <th>B</th>\n",
              "      <th>C</th>\n",
              "      <th>D</th>\n",
              "      <th>E</th>\n",
              "      <th>F</th>\n",
              "    </tr>\n",
              "  </thead>\n",
              "  <tbody>\n",
              "    <tr>\n",
              "      <th>0</th>\n",
              "      <td>1.0</td>\n",
              "      <td>2013-01-02</td>\n",
              "      <td>1.0</td>\n",
              "      <td>3</td>\n",
              "      <td>test</td>\n",
              "      <td>foo</td>\n",
              "    </tr>\n",
              "    <tr>\n",
              "      <th>1</th>\n",
              "      <td>1.0</td>\n",
              "      <td>2013-01-02</td>\n",
              "      <td>1.0</td>\n",
              "      <td>3</td>\n",
              "      <td>train</td>\n",
              "      <td>foo</td>\n",
              "    </tr>\n",
              "    <tr>\n",
              "      <th>2</th>\n",
              "      <td>1.0</td>\n",
              "      <td>2013-01-02</td>\n",
              "      <td>1.0</td>\n",
              "      <td>3</td>\n",
              "      <td>test</td>\n",
              "      <td>foo</td>\n",
              "    </tr>\n",
              "    <tr>\n",
              "      <th>3</th>\n",
              "      <td>1.0</td>\n",
              "      <td>2013-01-02</td>\n",
              "      <td>1.0</td>\n",
              "      <td>3</td>\n",
              "      <td>train</td>\n",
              "      <td>foo</td>\n",
              "    </tr>\n",
              "  </tbody>\n",
              "</table>\n",
              "</div>"
            ],
            "text/plain": [
              "     A          B    C  D      E    F\n",
              "0  1.0 2013-01-02  1.0  3   test  foo\n",
              "1  1.0 2013-01-02  1.0  3  train  foo\n",
              "2  1.0 2013-01-02  1.0  3   test  foo\n",
              "3  1.0 2013-01-02  1.0  3  train  foo"
            ]
          },
          "metadata": {
            "tags": []
          },
          "execution_count": 13
        }
      ]
    },
    {
      "cell_type": "markdown",
      "metadata": {
        "id": "y7pLOc_znrlf",
        "colab_type": "text"
      },
      "source": [
        "See how nicely the data is formatted as a pandas dataframe! And you can see that some columns are floats (decimal numbers), integers, dates, and text. If you're not sure what kind of format your data has:"
      ]
    },
    {
      "cell_type": "code",
      "metadata": {
        "id": "HC0gec2enrlf",
        "colab_type": "code",
        "colab": {
          "base_uri": "https://localhost:8080/",
          "height": 136
        },
        "outputId": "74fe2d37-edf3-48ec-bd45-5ec75e53edaf"
      },
      "source": [
        "df.dtypes"
      ],
      "execution_count": 14,
      "outputs": [
        {
          "output_type": "execute_result",
          "data": {
            "text/plain": [
              "A           float64\n",
              "B    datetime64[ns]\n",
              "C           float32\n",
              "D             int32\n",
              "E          category\n",
              "F            object\n",
              "dtype: object"
            ]
          },
          "metadata": {
            "tags": []
          },
          "execution_count": 14
        }
      ]
    },
    {
      "cell_type": "markdown",
      "metadata": {
        "id": "VZVnlaPSnrlg",
        "colab_type": "text"
      },
      "source": [
        "Now you can see the format of each column in the dataframe. To select a single column of data:"
      ]
    },
    {
      "cell_type": "code",
      "metadata": {
        "id": "2IR1oVRVnrlh",
        "colab_type": "code",
        "colab": {
          "base_uri": "https://localhost:8080/",
          "height": 119
        },
        "outputId": "1c28bc56-d95f-4c90-f0a5-bfaf238b2a66"
      },
      "source": [
        "df['E']"
      ],
      "execution_count": 15,
      "outputs": [
        {
          "output_type": "execute_result",
          "data": {
            "text/plain": [
              "0     test\n",
              "1    train\n",
              "2     test\n",
              "3    train\n",
              "Name: E, dtype: category\n",
              "Categories (2, object): [test, train]"
            ]
          },
          "metadata": {
            "tags": []
          },
          "execution_count": 15
        }
      ]
    },
    {
      "cell_type": "markdown",
      "metadata": {
        "id": "3DXVYiO9nrli",
        "colab_type": "text"
      },
      "source": [
        "There are a LOT more useful functions in pandas, and you will use this library in other labs at this school."
      ]
    },
    {
      "cell_type": "markdown",
      "metadata": {
        "id": "QEWTQOBQnrli",
        "colab_type": "text"
      },
      "source": [
        "### cartopy "
      ]
    },
    {
      "cell_type": "markdown",
      "metadata": {
        "id": "D1XAFRpEnrli",
        "colab_type": "text"
      },
      "source": [
        "The cartopy library is a way to make nice map visualizations! If you have attended previous COESSING schools, you may remember the library called basemap. While basemap still exists, it is no longer being updated and so cartopy is the map plotting package of choice these days. There is an excellent cartopy tutorial made by the amazing Josué Martinez-Moreno, so we won't take time to go over it here."
      ]
    },
    {
      "cell_type": "markdown",
      "metadata": {
        "id": "nuyp19Bknrli",
        "colab_type": "text"
      },
      "source": [
        "### netCDF4"
      ]
    },
    {
      "cell_type": "markdown",
      "metadata": {
        "id": "KJJ-ksoZnrlj",
        "colab_type": "text"
      },
      "source": [
        "netCDF4 is a nice package to load netcdf (.nc) files. If you look at the python lab from COESSING 2019 (last year!) you can see examples of using this package."
      ]
    },
    {
      "cell_type": "markdown",
      "metadata": {
        "id": "jkxeo801nrlj",
        "colab_type": "text"
      },
      "source": [
        "### xarray"
      ]
    },
    {
      "cell_type": "markdown",
      "metadata": {
        "id": "xPX4BbEsnrlj",
        "colab_type": "text"
      },
      "source": [
        "The xarray package is very useful particularly when dealing with large amounts of data, e.g. from ocean/climate models. It also streamlines many useful features, and allows you to take averages of data or plot data all in one line. It's pretty nifty!"
      ]
    },
    {
      "cell_type": "markdown",
      "metadata": {
        "id": "u976zkmJrh_s",
        "colab_type": "text"
      },
      "source": [
        "# A few tips:\n",
        "\n",
        "\n",
        "- Don't be shy to play around with python and Colab! If you aren't sure if you did something correctly, the computer will often tell if you did! So try writing some code, try writing some nice text cells - have fun!\n",
        "- Error messages are (usually) your friends! Don't be upset if you see an error message. Usually they are quite useful. Read the error message and see if you can fix it yourself! Googling error messages is also a great way to find answers on the internet.\n",
        "- Especially when typing out code, make sure your spelling is exact! The computer can only interpret exact python code, and so (I find) most of my errors are because of a spelling typo. (Which is great - they are easy to fix!) :)\n",
        "\n",
        "\n"
      ]
    },
    {
      "cell_type": "markdown",
      "metadata": {
        "id": "ahj-Sp6Hnrlj",
        "colab_type": "text"
      },
      "source": [
        "# Finally:\n",
        "\n",
        "It's time to put your knowledge to the test by completing other python notebooks and labs that are part of this school! There are several other specific python-learning notebooks, as well as several labs on other topics that are in python! So you have plenty of chances to practice python this week.\n",
        "\n",
        "If you have any Colab or python-related questions, post them on the Slack channel #python-help! This channel will be monitored mostly in the morning in Ghanaian time (since the python instructors are in Australia!) Also, if you see a question in the #python-help channel that you can answer, go for it! We are all learning together, and I encourage discussions among participants!\n",
        "\n",
        "Of course, you can always Google your questions as well! Nearly every question about python has been asked before and likely has an answer on the internet. :) "
      ]
    },
    {
      "cell_type": "code",
      "metadata": {
        "id": "0HuFvla0nrlj",
        "colab_type": "code",
        "colab": {}
      },
      "source": [
        ""
      ],
      "execution_count": null,
      "outputs": []
    }
  ]
}