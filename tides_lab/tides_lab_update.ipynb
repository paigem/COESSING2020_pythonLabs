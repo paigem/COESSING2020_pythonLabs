{
 "cells": [
  {
   "cell_type": "markdown",
   "metadata": {},
   "source": [
    "# Tides Lab \n",
    "### Stephan Howden\n",
    "### University of Southern Mississippi\n",
    "#### Questions should be posted in the \"#tides-lab\" Slack channel \n",
    "stephan.howden@usm.edu"
   ]
  },
  {
   "cell_type": "markdown",
   "metadata": {},
   "source": [
    "- This lab may be worked on individually or in small teams. The lab has a mix of computations and questions, and it may help to review Dr. Arbic’s lecture on tides to help with answering the questions. \n",
    "\n",
    "- If you are new to jupyter or python, please complete the introductory python material posted in the Slack channel #python-help or on the website under \"Python Programming\" (https://coessing.org/coessing-2020-python-resources/).\n",
    "    - There are blank cells provided below each question for you to write your answer. You may need to toggle between markdown (if your answer is just writing text) and code (if you need to evaluate python code). Please do so using the menu near the top of this page that is just below the Help menu.\n",
    "    - Python-related question should be directed to the #python-help channel on Slack\n",
    "\n",
    "- We will be working with data files provided by the Ghana Ports and Harbours Commission for tide gauges located at the ports of Tema and Takoradi.\n",
    "\n",
    "- Files:\n",
    "        - Tides_Tema_20200501_20200601_10.txt\n",
    "        - Tides_Takoradi_20200501_20200601_10.txt\n",
    "    - These files are data for May 2020. The sampling interval is 10 minutes. Each 10 minute value is an average over maybe 3 minutes (I don’t know for sure).\n",
    "\n",
    "\n",
    "<br>\n",
    "<br>\n",
    "\n",
    "**Keywords**\n",
    "\n",
    "diurnal, semi-diurnal, syzygy, water level, tides, fort-nightly, mean sea level, amplitude, range, spring tides, neap tides, tidal phase, M2 tide, "
   ]
  },
  {
   "cell_type": "markdown",
   "metadata": {},
   "source": [
    "## Instructions\n",
    "#### First review Dr. Arbic’s lecture on tides. Second, make a glossary for the keywords."
   ]
  },
  {
   "cell_type": "markdown",
   "metadata": {},
   "source": [
    "Before we begin, we must load the libraries will use in this notebook. We will use pandas to load the data and matplotlib to plot the data! First, we start with the \"magic\" command \"%matplotlib notebook\" to plot figures we can interact with. The repeated line is not a typo, but is needed to prevent a graphical error."
   ]
  },
  {
   "cell_type": "code",
   "execution_count": null,
   "metadata": {},
   "outputs": [],
   "source": [
    "%matplotlib notebook\n",
    "%matplotlib notebook\n",
    "import numpy as np\n",
    "import pandas as pd\n",
    "import matplotlib.pyplot as plt"
   ]
  },
  {
   "cell_type": "markdown",
   "metadata": {},
   "source": [
    "### 1. Load the tide data from Tema by running the cell below"
   ]
  },
  {
   "cell_type": "code",
   "execution_count": null,
   "metadata": {},
   "outputs": [],
   "source": [
    "# Load data as a pandas dataframe\n",
    "#   - sep='\\t' --> indicates that data are separated by a tab\n",
    "#   - header=[0,1] --> assigns the top two rows (rows 0 and 1) to be column headers (row 0 is name of variable, row 1 is the units)\n",
    "#   - parse_dates=[2] --> formats the third column (column 2) as a date and time\n",
    "df_tema = pd.read_csv('Tides_Tema_20200501_20200601_10.txt', sep=\"\\t\",header=[0,1],parse_dates=[2])\n",
    "\n",
    "# Join the two header rows\n",
    "df_tema.columns = df_tema.columns.map('_'.join)\n",
    "\n",
    "# Keep only the three relevant columns\n",
    "df_tema = df_tema[['DateTime_UTC','Observed_m','Predicted_m']]\n",
    "\n",
    "# Print the top 5 rows in the dataframe\n",
    "df_tema.head()"
   ]
  },
  {
   "cell_type": "markdown",
   "metadata": {},
   "source": [
    "### 2. Plot the Tema data by running the cell below"
   ]
  },
  {
   "cell_type": "code",
   "execution_count": null,
   "metadata": {
    "scrolled": false
   },
   "outputs": [],
   "source": [
    "# Set figure size to be 10 by 5 inches (slightly larger than the default)\n",
    "plt.figure(figsize=(10,5))\n",
    "plt.plot(df_tema['DateTime_UTC'],df_tema['Observed_m'])\n",
    "\n",
    "# Add labels to the plot\n",
    "plt.xlabel('Date',fontsize=18)\n",
    "plt.ylabel('m',fontsize=18)\n",
    "plt.title('May 2020 Water Levels at Tema',fontsize=24)"
   ]
  },
  {
   "cell_type": "markdown",
   "metadata": {},
   "source": [
    "### 3. Estimate, or compute, the May 2020 monthly  mean sea level:"
   ]
  },
  {
   "cell_type": "code",
   "execution_count": null,
   "metadata": {},
   "outputs": [],
   "source": [
    "# Calculate the mean sea level here:\n",
    "# Tip: you can use the np.mean() function\n",
    "#    e.g. x = np.array((3,7,8))\n",
    "#         x_mean = np.mean(x)\n",
    "#         print(x_mean) --> the result will be 6!\n",
    "\n",
    "# ***TYPE YOUR ANSWER BELOW THIS LINE***\n"
   ]
  },
  {
   "cell_type": "markdown",
   "metadata": {},
   "source": [
    "### 4. What is the daily maximum range and the daily minimum range during May 2020?"
   ]
  },
  {
   "cell_type": "markdown",
   "metadata": {},
   "source": [
    "*TYPE YOUR ANSWER HERE* - double-click these words to enter this text cell"
   ]
  },
  {
   "cell_type": "markdown",
   "metadata": {},
   "source": [
    "### 5. How many water level highs and lows are there per day?"
   ]
  },
  {
   "cell_type": "markdown",
   "metadata": {},
   "source": [
    "*TYPE YOUR ANSWER HERE* - double-click these words to enter this text cell"
   ]
  },
  {
   "cell_type": "markdown",
   "metadata": {},
   "source": [
    "### 6. What is the term used to characterize tides with this many lows and highs per day?"
   ]
  },
  {
   "cell_type": "markdown",
   "metadata": {},
   "source": [
    "*TYPE YOUR ANSWER HERE* - double-click these words to enter this text cell"
   ]
  },
  {
   "cell_type": "markdown",
   "metadata": {},
   "source": [
    "### 7. The range of the tide varies systematically in magnitude throughout the month. From the figure what is the approximate period of this variation?"
   ]
  },
  {
   "cell_type": "markdown",
   "metadata": {},
   "source": [
    "*TYPE YOUR ANSWER HERE* - double-click these words to enter this text cell"
   ]
  },
  {
   "cell_type": "markdown",
   "metadata": {},
   "source": [
    "### 8. What is the cause of this variation in tidal range?"
   ]
  },
  {
   "cell_type": "markdown",
   "metadata": {},
   "source": [
    "*TYPE YOUR ANSWER HERE* - double-click these words to enter this text cell"
   ]
  },
  {
   "cell_type": "markdown",
   "metadata": {},
   "source": [
    "### 9. The image below (which we will later refer to as *Figure 1*) shows the M2 tide in the Atlantic Ocean from the TPXO model. The figure shows color filled contours of amplitude and contour lines of phase. From the figure estimate the amplitude and range of the M2 tide along the coast of Ghana. \n",
    "\n",
    "<img src=\"Figure1.png\">"
   ]
  },
  {
   "cell_type": "markdown",
   "metadata": {},
   "source": [
    "*TYPE YOUR ANSWER HERE* - double-click these words to enter this text cell"
   ]
  },
  {
   "cell_type": "markdown",
   "metadata": {},
   "source": [
    "### 10.\tHow does this estimate of the range of the M2 tide compare with the mean, maximum and minimum range of the tide during May 2020?"
   ]
  },
  {
   "cell_type": "markdown",
   "metadata": {},
   "source": [
    "*TYPE YOUR ANSWER HERE* - double-click these words to enter this text cell"
   ]
  },
  {
   "cell_type": "markdown",
   "metadata": {},
   "source": [
    "### 11.\tWhat do you think the 3 most important reasons are why the M2 range from Figure 1is different from the numbers you found for the May 2020 observed tide at Tema in the previous question."
   ]
  },
  {
   "cell_type": "markdown",
   "metadata": {},
   "source": [
    "*TYPE YOUR ANSWER HERE* - double-click these words to enter this text cell"
   ]
  },
  {
   "cell_type": "markdown",
   "metadata": {},
   "source": [
    "### 12. The contour lines of phase are every 15 degrees. Everywhere along one of those lines the same phase (e.g., high tide, low tide) of the M2 portion of the tide occurs at the same time. The M2 tide propagates from lower values of phase to higher values of phase. It takes ~12 hours for the tide to make one 360 degree cycle, so the tide propagates 15 deg/12 hr = 1.25 deg/hr. From the figure determine if the M2 tide propagates from east to west or west to east?"
   ]
  },
  {
   "cell_type": "markdown",
   "metadata": {},
   "source": [
    "*TYPE YOUR ANSWER HERE* - double-click these words to enter this text cell"
   ]
  },
  {
   "cell_type": "markdown",
   "metadata": {},
   "source": [
    "### 13. From the figure determine how many hours it takes for high tide to propagate along the coast of Ghana. "
   ]
  },
  {
   "cell_type": "markdown",
   "metadata": {},
   "source": [
    "*TYPE YOUR ANSWER HERE* - double-click these words to enter this text cell"
   ]
  },
  {
   "cell_type": "markdown",
   "metadata": {},
   "source": [
    "### 14. Load Takoradi data by evaluating the cell below"
   ]
  },
  {
   "cell_type": "code",
   "execution_count": null,
   "metadata": {},
   "outputs": [],
   "source": [
    "# Load data as a pandas dataframe\n",
    "#   - sep='\\t' --> indicates that data are separated by a tab\n",
    "#   - header=[0,1] --> assigns the top two rows (rows 0 and 1) to be column headers (row 0 is name of variable, row 1 is the units)\n",
    "#   - parse_dates=[2] --> formats the third column (column 2) as a date and time\n",
    "df_tako = pd.read_csv('Tides_Takoradi_20200501_20200601_10.txt', sep=\"\\t\",header=[0,1],parse_dates=[2])\n",
    "\n",
    "# Join the two header rows\n",
    "df_tako.columns = df_tako.columns.map('_'.join)\n",
    "\n",
    "# Keep only the three relevant columns\n",
    "df_tako = df_tako[['DateTime_UTC','Observed_m','Predicted_m']]\n",
    "\n",
    "# Print the top 5 rows in the dataframe\n",
    "df_tako.head()"
   ]
  },
  {
   "cell_type": "markdown",
   "metadata": {},
   "source": [
    "### 15. Plot Takoradi data along with Tema data. This plots three days of the harmonically predicted tides at the two ports. It is smoother than the observed tide (observed “tide” includes water level changes due to other factors than tides, such as winds) and will be easier to use for the following questions."
   ]
  },
  {
   "cell_type": "code",
   "execution_count": null,
   "metadata": {},
   "outputs": [],
   "source": [
    "# Set figure size to be 10 by 5 inches (slightly larger than the default)\n",
    "plt.figure(figsize=(10,5))\n",
    "plt.plot(df_tema['DateTime_UTC'][:],df_tema['Predicted_m'][:],'k',label='Tema')\n",
    "plt.plot(df_tako['DateTime_UTC'][:],df_tako['Predicted_m'][:],'r',label='Takoradi')\n",
    "\n",
    "# Add labels to the plot\n",
    "plt.xlabel('Date',fontsize=18)\n",
    "plt.ylabel('m',fontsize=18)\n",
    "plt.title('May 2020 Water Levels at Tema and Takoradi',fontsize=24)\n",
    "plt.xlim(pd.Timestamp('2020-05-18'), pd.Timestamp('2020-05-21'))\n",
    "plt.legend(fontsize=16)"
   ]
  },
  {
   "cell_type": "markdown",
   "metadata": {},
   "source": [
    "### 16.\tDoes the plot you made show the tide at Tema leading or lagging (e.g., does high tide come before or after) the tide at Takoradi, and is this result consistent with what you found from Figure 1 (Step 12)?"
   ]
  },
  {
   "cell_type": "markdown",
   "metadata": {},
   "source": [
    "*TYPE YOUR ANSWER HERE* - double-click these words to enter this text cell"
   ]
  },
  {
   "cell_type": "markdown",
   "metadata": {},
   "source": [
    "### 17. Pick a few corresponding highs at Tema and Takoradi and estimate how may hours it takes for a high water to propagate between the two stations. To do this, follow the instructions below to zoom in on the map to find the precise time of each peak:\n",
    "- Use the buttons just below the figure above to zoom (using the open rectangle)\n",
    "- The x- and y-coordinates of the point you are hovering over show up in the bottom right\n",
    "- After zooming in sufficiently, you should see something like x=19 01:49 which means My 19th at 1:49am. This will give you a resolution in minutes, which should suffice for the estimation required in this question.\n",
    "- To zoom back out, click the left arrow in the buttons below the plot"
   ]
  },
  {
   "cell_type": "markdown",
   "metadata": {},
   "source": [
    "*TYPE YOUR ANSWER HERE* - double-click these words to enter this text cell"
   ]
  },
  {
   "cell_type": "markdown",
   "metadata": {},
   "source": [
    "### 18. How does this time difference compare to the time difference from Figure 1 for a given stage of the tide to propagate across the coast of Ghana? What about if you use the fact that the distance from Tema to Takoradi is approximately 35% the length of the entire coastline of Ghana?"
   ]
  },
  {
   "cell_type": "markdown",
   "metadata": {},
   "source": [
    "*TYPE YOUR ANSWER HERE* - double-click these words to enter this text cell"
   ]
  },
  {
   "cell_type": "markdown",
   "metadata": {},
   "source": [
    "### 19. What do you think the three most important reasons are that your estimates of the tide it takes for the observed tide to propagate from one station to the other differs from what you estimate it takes for the M2 tide to do the same?"
   ]
  },
  {
   "cell_type": "markdown",
   "metadata": {},
   "source": [
    "*TYPE YOUR ANSWER HERE* - double-click these words to enter this text cell"
   ]
  },
  {
   "cell_type": "markdown",
   "metadata": {},
   "source": [
    "### 20. What was the most interesting part of this lab for you?"
   ]
  },
  {
   "cell_type": "markdown",
   "metadata": {},
   "source": [
    "*TYPE YOUR ANSWER HERE* - double-click these words to enter this text cell"
   ]
  },
  {
   "cell_type": "markdown",
   "metadata": {},
   "source": [
    "### 21. Is there anything you had a hard time understanding or still do not fully understand?"
   ]
  },
  {
   "cell_type": "markdown",
   "metadata": {},
   "source": [
    "*TYPE YOUR ANSWER HERE* - double-click these words to enter this text cell"
   ]
  }
 ],
 "metadata": {
  "kernelspec": {
   "display_name": "Python 3",
   "language": "python",
   "name": "python3"
  },
  "language_info": {
   "codemirror_mode": {
    "name": "ipython",
    "version": 3
   },
   "file_extension": ".py",
   "mimetype": "text/x-python",
   "name": "python",
   "nbconvert_exporter": "python",
   "pygments_lexer": "ipython3",
   "version": "3.7.3"
  }
 },
 "nbformat": 4,
 "nbformat_minor": 2
}
